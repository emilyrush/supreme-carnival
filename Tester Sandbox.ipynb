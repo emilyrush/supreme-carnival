{
 "cells": [
  {
   "cell_type": "code",
   "execution_count": 21,
   "metadata": {},
   "outputs": [],
   "source": [
    "# Dependencies and Setup\n",
    "import matplotlib.pyplot as plt\n",
    "import pandas as pd\n",
    "import numpy as np\n",
    "import requests\n",
    "import time\n",
    "import json\n",
    "from pprint import pprint\n",
    "\n",
    "tm_api = \"RXmEh1ZWt2Fvs6pbm6OOCxBgw029UbGs\"\n",
    "nyt_api = \"6aa63a6bd7e34eae933e5c2a1e301d2a\""
   ]
  },
  {
   "cell_type": "code",
   "execution_count": 40,
   "metadata": {},
   "outputs": [
    {
     "data": {
      "text/plain": [
       "{\"Aaron Lewis, State I'm in Tour, Acoustic Songs & Stories\",\n",
       " 'Chicago',\n",
       " 'Gary Clark Jr',\n",
       " 'Gregory Alan Isakov',\n",
       " 'James Bay Electric Light Tour',\n",
       " 'Joe Bonamassa',\n",
       " 'Lucinda Williams',\n",
       " 'Mandolin Orange',\n",
       " 'The Fab Four',\n",
       " 'The Marshall Tucker Band',\n",
       " 'The Temptations & the Four Tops',\n",
       " 'ThePianoGuys',\n",
       " 'Toni Braxton With Special Guests SWV - As Long As I Live Tour',\n",
       " 'Tower of Power',\n",
       " \"Tyler Perry's Madea's Farewell Play Tour\",\n",
       " 'Widespread Panic'}"
      ]
     },
     "execution_count": 40,
     "metadata": {},
     "output_type": "execute_result"
    }
   ],
   "source": [
    "city = \"durham\"\n",
    "\n",
    "tm_base_url = \"https://app.ticketmaster.com/discovery/v2/events.json?\"\n",
    "tm_query_url = tm_base_url + \"classificationName=music\" + \"&city=\" + city + \"&apikey=\" + tm_api\n",
    "\n",
    "shows = requests.get(tm_query_url).json()\n",
    "\n",
    "city_shows = set([show['name'] for show in shows['_embedded']['events']])\n",
    "\n",
    "\n",
    "city_shows\n"
   ]
  },
  {
   "cell_type": "code",
   "execution_count": 49,
   "metadata": {},
   "outputs": [
    {
     "ename": "TypeError",
     "evalue": "string indices must be integers",
     "output_type": "error",
     "traceback": [
      "\u001b[1;31m---------------------------------------------------------------------------\u001b[0m",
      "\u001b[1;31mTypeError\u001b[0m                                 Traceback (most recent call last)",
      "\u001b[1;32m<ipython-input-49-8e0c179694ad>\u001b[0m in \u001b[0;36m<module>\u001b[1;34m()\u001b[0m\n\u001b[0;32m      4\u001b[0m     \u001b[0mnyt_query_url\u001b[0m \u001b[1;33m=\u001b[0m \u001b[0mnyt_base_url\u001b[0m \u001b[1;33m+\u001b[0m \u001b[1;34m\"api-key=\"\u001b[0m \u001b[1;33m+\u001b[0m \u001b[0mnyt_api\u001b[0m \u001b[1;33m+\u001b[0m \u001b[1;34m\"&q=\"\u001b[0m \u001b[1;33m+\u001b[0m \u001b[0mshow\u001b[0m\u001b[1;33m\u001b[0m\u001b[0m\n\u001b[0;32m      5\u001b[0m     \u001b[0mresults\u001b[0m \u001b[1;33m=\u001b[0m \u001b[0mrequests\u001b[0m\u001b[1;33m.\u001b[0m\u001b[0mget\u001b[0m\u001b[1;33m(\u001b[0m\u001b[0mnyt_query_url\u001b[0m\u001b[1;33m)\u001b[0m\u001b[1;33m.\u001b[0m\u001b[0mjson\u001b[0m\u001b[1;33m(\u001b[0m\u001b[1;33m)\u001b[0m\u001b[1;33m\u001b[0m\u001b[0m\n\u001b[1;32m----> 6\u001b[1;33m     \u001b[0mshow_stories\u001b[0m \u001b[1;33m=\u001b[0m \u001b[0mset\u001b[0m\u001b[1;33m(\u001b[0m\u001b[1;33m[\u001b[0m\u001b[1;34m'response'\u001b[0m\u001b[1;33m]\u001b[0m\u001b[1;33m[\u001b[0m\u001b[1;36m0\u001b[0m\u001b[1;33m]\u001b[0m\u001b[1;33m[\u001b[0m\u001b[1;34m'docs'\u001b[0m\u001b[1;33m]\u001b[0m\u001b[1;33m[\u001b[0m\u001b[1;36m0\u001b[0m\u001b[1;33m]\u001b[0m\u001b[1;33m[\u001b[0m\u001b[1;34m'headline'\u001b[0m\u001b[1;33m]\u001b[0m\u001b[1;33m[\u001b[0m\u001b[1;36m0\u001b[0m\u001b[1;33m]\u001b[0m\u001b[1;33m[\u001b[0m\u001b[1;34m'main'\u001b[0m\u001b[1;33m]\u001b[0m\u001b[1;33m)\u001b[0m\u001b[1;33m\u001b[0m\u001b[0m\n\u001b[0m",
      "\u001b[1;31mTypeError\u001b[0m: string indices must be integers"
     ]
    }
   ],
   "source": [
    "nyt_base_url= \"https://api.nytimes.com/svc/search/v2/articlesearch.json?\"\n",
    "\n",
    "# for show in city_shows:\n",
    "#     nyt_query_url = nyt_base_url + \"api-key=\" + nyt_api + \"&q=\" + show\n",
    "#     results = requests.get(nyt_query_url).json()\n",
    "#     show_stories = set(['response'][0]['docs'][0]['headline'][0]['main'])\n",
    "\n"
   ]
  },
  {
   "cell_type": "code",
   "execution_count": null,
   "metadata": {},
   "outputs": [],
   "source": []
  }
 ],
 "metadata": {
  "kernelspec": {
   "display_name": "Python 3",
   "language": "python",
   "name": "python3"
  },
  "language_info": {
   "codemirror_mode": {
    "name": "ipython",
    "version": 3
   },
   "file_extension": ".py",
   "mimetype": "text/x-python",
   "name": "python",
   "nbconvert_exporter": "python",
   "pygments_lexer": "ipython3",
   "version": "3.7.0"
  }
 },
 "nbformat": 4,
 "nbformat_minor": 2
}
